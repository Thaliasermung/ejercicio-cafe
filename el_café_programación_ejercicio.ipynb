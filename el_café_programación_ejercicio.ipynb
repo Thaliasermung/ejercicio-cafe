{
  "cells": [
    {
      "cell_type": "markdown",
      "metadata": {
        "id": "view-in-github",
        "colab_type": "text"
      },
      "source": [
        "<a href=\"https://colab.research.google.com/github/Thaliasermung/ejercicio-cafe/blob/main/el_caf%C3%A9_programaci%C3%B3n_ejercicio.ipynb\" target=\"_parent\"><img src=\"https://colab.research.google.com/assets/colab-badge.svg\" alt=\"Open In Colab\"/></a>"
      ]
    },
    {
      "cell_type": "markdown",
      "metadata": {
        "id": "Fj7i8ivbvjGV"
      },
      "source": [
        "**¡Bienvenido!**\n",
        "A continuación se presenta el texto \"El café\" del escritor Luis Sepúlveda en el apartado principal, las palabras se muestran en forma de lista y el número total de ellas.\n",
        "En los siguientes apartados tendrás:\n",
        "Apartado A: Top 5 palabras más comunes ( 'la', 'no', 'los', 'el', 'y', 'que', 'de', 'es')\n",
        "Apartado :B Top 5 palábras menos comunes\n",
        "Apartado C: Histograma de las 5 palabras más comunes\n",
        "Apartado D: Salir del programa.\n"
      ]
    },
    {
      "cell_type": "code",
      "execution_count": null,
      "metadata": {
        "colab": {
          "background_save": true
        },
        "id": "2uCK1NDay8mR"
      },
      "outputs": [],
      "source": [
        "print ('''\n",
        "                     (\n",
        "                        )     (\n",
        "                 ___...(-------)-....___\n",
        "             .-\"\"       )    (          \"\"-.\n",
        "       .-'``'|-._             )         _.-|\n",
        "      /  .--.|   `\"\"---...........---\"\"`   |\n",
        "     /  /    |                             |\n",
        "     |  |    |                             |\n",
        "      \\  \\   |                             |\n",
        "       `\\ `\\ |                             |\n",
        "         `\\ `|                             |\n",
        "         _/ /\\                             /\n",
        "        (__/  \\                           /\n",
        "     _..---\"\"` \\                         /`\"\"---.._\n",
        "  .-'           \\                       /          '-.\n",
        " :               `-.__             __.-'              :\n",
        " :                  ) \"\"---...---\"\" (                 :\n",
        "  '._               `\"--...___...--\"`              _.'\n",
        "      \\\"\"--..__                              __..--\"\"/\n",
        "         '._     \"\"\"----.....______.....----\"\"\"     _.'\n",
        "            `\"\"--..,,_____            _____,,..--\"\"`\n",
        "                          `\"\"\"----\"\"\"`\n",
        "''')"
      ]
    },
    {
      "cell_type": "markdown",
      "metadata": {
        "id": "vYr5dGaD0BM6"
      },
      "source": [
        "**Apartado principal**"
      ]
    },
    {
      "cell_type": "code",
      "execution_count": 2,
      "metadata": {
        "colab": {
          "base_uri": "https://localhost:8080/"
        },
        "id": "_Mxuht4MFCff",
        "outputId": "63fdc261-9066-4b4e-c1a4-62f40006428c"
      },
      "outputs": [
        {
          "output_type": "stream",
          "name": "stdout",
          "text": [
            "  % Total    % Received % Xferd  Average Speed   Time    Time     Time  Current\n",
            "                                 Dload  Upload   Total   Spent    Left  Speed\n",
            "100  4134  100  4134    0     0  21008      0 --:--:-- --:--:-- --:--:-- 20984\n"
          ]
        }
      ],
      "source": [
        "# Fetch the dataset using the raw GitHub URL.\n",
        "!curl --remote-name \\\n",
        "     -H 'Accept: application/vnd.github.v3.raw' \\\n",
        "     --location https://raw.githubusercontent.com/Thaliasermung/ejercicio-cafe/main/El%20caf%C3%A9.txt"
      ]
    },
    {
      "cell_type": "code",
      "execution_count": 44,
      "metadata": {
        "colab": {
          "base_uri": "https://localhost:8080/",
          "height": 1000
        },
        "id": "1PvGY0ecFY9_",
        "outputId": "e97c0173-57d0-4582-e709-8903ab69fb40"
      },
      "outputs": [
        {
          "output_type": "stream",
          "name": "stdout",
          "text": [
            "['el', 'café', 'luis', 'sepúlveda', 'ella', 'está', 'bajo', 'la', 'ducha.', 'el', 'agua', 'cae', 'sobre', 'su', 'cuerpo', 'y', 'se', 'detiene', 'en', 'la', 'formación', 'de', 'repentinas', 'estalactitas', 'en', 'el', 'abismo', 'de', 'esos', 'senos', 'que', 'has', 'besado', 'durante', 'tantas', 'horas.', 'colocas', 'café', 'en', 'el', 'filtro,', 'calculas', 'la', 'cantidad', 'de', 'agua', 'para', 'cuatro', 'tazas', 'y', 'oprimes', 'el', 'botón', 'rojo.', 'escuchas', 'el', 'sonido', 'del', 'agua', 'que', 'hierve', 'eléctricamente', 'y', 'gota', 'a', 'gota', 'va', 'cayendo', 'sobre', 'el', 'café,', 'formando', 'ese', 'lodo', 'aromático.', 'argamasa', 'que', 'une', 'los', 'adoquines', 'de', 'la', 'mañana.', 'ella', 'aparece', 'con', 'su', 'salida', 'de', 'baño', 'anudada', 'con', 'descuido.', 'puedes', 'ver', 'sus', 'muslos', 'relucientes,', 'húmedos', 'aún.', 'retiras', 'la', 'cafetera,', 'la', 'llevas', 'a', 'la', 'mesa,', 'dispones', 'las', 'tazas,', 'compruebas', 'que', 'los', 'claveles', 'persisten', 'en', 'su', 'agónica', 'estatura', 'rosada.', 'no', 'son', 'tan', 'puramente', 'perecederos', 'como', 'las', 'rosas', 'de', 'mayo.', 'aparece', 'ahora', 'con', 'una', 'toalla', 'anudada', 'a', 'manera', 'de', 'turbante,', 'puedes', 'ver', 'su', 'nuca,', 'el', 'cuello', 'liso', 'y', 'fresco,', 'que', 'huele', 'a', 'talco.', 'bajo', 'el', 'turbante', 'un', 'diminuto', 'mechón', 'escapa', 'a', 'las', 'intenciones', 'del', 'secado', 'y', 'se', 'adhiere', 'a', 'la', 'piel', 'con', 'esa', 'extraña', 'presencia', 'de', 'rubia', 'petrificación.', 'ella', 'se', 'sienta,', 'tú', 'también', 'lo', 'haces', 'y,', 'frente', 'a', 'ustedes,', 'el', 'silencio', 'de', 'siempre', 'ocupa', 'su', 'lugar.', 'sirves', 'el', 'café', 'lentamente,', 'alargas', 'la', 'mano', 'hacia', 'ella', 'con', 'la', 'taza', 'servida,', 'llenas', 'la', 'tuya,', 'con', 'la', 'mirada', 'le', 'ofreces', 'las', 'cosas', 'que', 'hay', 'sobre', 'la', 'mesa.', 'pan,', 'mantequilla,', 'mermelada', 'y', 'otros', 'alimentos', 'que', 'a', 'esas', 'horas', 'y', 'en', 'esas', 'circunstancias', 'se', 'te', 'antojan', 'absolutamente', 'insípidos.', 'compruebas', 'que', 'ella', 'no', 'acepta,', 'que', 'simplemente', 'enciende', 'un', 'cigarrillo', 'y', 'derrama', 'unas', 'gotas', 'de', 'leche', 'en', 'su', 'taza', 'de', 'café.', 'con', 'la', 'cuchara', 'realizas', 'breves', 'movimientos', 'giratorios', 'que', 'van', 'formando', 'espirales,', 'hasta', 'que', 'compruebas', 'la', 'total', 'disolución', 'del', 'azúcar', 'que', 'se', 'ha', 'hundido', 'como', 'polvo', 'de', 'espejos', 'en', 'un', 'pozo,', 'silenciosamente,', 'respetando', 'el', 'carácter', 'intocable', 'de', 'esta', 'mañana-silencio', 'que', 'se', 'inicia.', 'ella', 'es', 'finalmente', 'la', 'primera', 'en', 'probar', 'el', 'café', 'y', 'su', 'primera', 'idea', 'es', 'que', 'tal', 'vez', 'la', 'taza', 'estaba', 'sucia.', 'levanta', 'los', 'ojos,', 'te', 'mira', 'sin', 'recriminaciones', 'en', 'el', 'mismo', 'instante', 'en', 'que', 'tú', 'bebes', 'el', 'primer', 'sorbo', 'y', 'piensas', 'que', 'puede', 'ser', 'el', 'cigarrillo', 'el', 'responsable', 'de', 'este', 'sabor', 'por', 'el', 'momento', 'incalificable,', 'pero', 'es', 'ella', 'quien', 'lo', 'dice:', '–este', 'café', 'tiene', 'sabor', 'a', 'fracaso.', 'entonces', 'te', 'levantas,', 'le', 'arrebatas', 'la', 'taza', 'de', 'la', 'mano,', 'tomas', 'la', 'cafetera', 'y', 'vuelvas', 'todo', 'el', 'líquido', 'en', 'el', 'lavaplatos.', 'el', 'café', 'desaparece', 'entre', 'burbujas', 'calientes', 'y', 'no', 'queda', 'más', 'que', 'una', 'oscura', 'presencia', 'que', 'bordea', 'el', 'desagüe.', 'abres', 'un', 'nuevo', 'paquete,', 'calculas', 'agua', 'para', 'cuatro', 'tazas', 'y', 'estás', 'de', 'pie', 'esperando', 'que,', 'gota', 'a', 'gota,', 'se', 'vaya', 'formando', 'nuevamente', 'esa', 'porción', 'de', 'lodo', 'matinal.', 'sirves.', 'ella', 'prueba.', 'te', 'mira', 'con', 'tristeza.', 'no', 'dice', 'nada.', 'bebes', 'de', 'tu', 'taza', 'y', 'la', 'miras.', 'ahora', 'eres', 'tú', 'el', 'que', 'exclama:', '–cierto.', 'tiene', 'sabor', 'a', 'fracaso.', 'ella', 'dice', 'benevolente', 'que', 'puede', 'ser', 'cosa', 'del', 'azúcar', 'o', 'de', 'la', 'leche', 'y', 'tú', 'gritas', 'que', 'no', 'has', 'puesto', 'ni', 'leche', 'ni', 'azúcar', 'en', 'tu', 'taza.', 'enciente', 'otro', 'cigarrillo', 'y', 'aleja', 'su', 'taza', 'hasta', 'el', 'centro', 'de', 'la', 'mesa', 'mientras', 'tú', 'sacas', 'todos', 'los', 'paquetes', 'de', 'café', 'que', 'guardas', 'en', 'la', 'alacena', 'y', 'con', 'la', 'punta', 'de', 'un', 'cuchillo', 'los', 'vas', 'abriendo,', 'frenético', 'vas', 'palpando', 'con', 'tus', 'dedos', 'su', 'textura', 'fina,', 'pruebas,', 'escupes,', 'maldices,', 'compruebas', 'que', 'todo', 'el', 'café', 'de', 'la', 'casa', 'tiene', 'el', 'mismo', 'inevitable', 'sabor', 'a', 'fracaso.', 'ella', 'no', 'ha', 'probado', 'ninguno', 'y', 'también', 'lo', 'sabe.', 'te', 'lo', 'dice', 'con', 'la', 'mirada', 'perdida', 'en', 'los', 'dibujos', 'poliédricos', 'del', 'mantel.', 'te', 'lo', 'dice', 'que', 'con', 'el', 'humo', 'que', 'escapa', 'de', 'sus', 'labios.', 'regresas', 'a', 'tu', 'silla', 'sintiendo', 'algo', 'así', 'como', 'un', 'ladrillo', 'en', 'la', 'garganta.', 'quieres', 'hablar.', 'quieres', 'decir', 'que', 'juntos', 'habéis', 'tomado', 'muchos', 'cafés', 'con', 'sabor', 'a', 'olvido,', 'con', 'sabor', 'a', 'desprecio,', 'con', 'sabor', 'a', 'odio', 'amable', 'y', 'monótono.', 'quieres', 'decir', 'que', 'ésta', 'es', 'la', 'primera', 'vez', 'que', 'el', 'café', 'tiene', 'este', 'desesperante', 'sabor', 'a', 'fracaso.', 'pero', 'no', 'logras', 'articular', 'ni', 'una', 'palabra.', 'ella', 'se', 'levanta', 'de', 'la', 'mesa.', 'va', 'al', 'cuarto', 'contiguo.', 'se', 'viste', 'lentamente', 'y', 'hasta', 'tus', 'oídos', 'llega', 'el', 'clic', 'de', 'su', 'pulsera.', 'avanza', 'hasta', 'la', 'puerta,', 'coge', 'las', 'llaves,', 'el', 'bolso,', 'el', 'pequeño', 'libro', 'de', 'viajes,', 'piensa', 'algo', 'antes', 'de', 'abrir', 'la', 'puerta', 'y', 'retrocede', 'hasta', 'tu', 'puesto', 'para', 'estampar', 'en', 'tus', 'labios', 'un', 'beso', 'frío', 'que,', 'aunque', 'no', 'lo', 'creas,', 'tiene', 'el', 'mismo', 'sabor', 'a', 'fracaso', 'que', 'el', 'café.']\n",
            "Tu texto tiene 724 palabras\n",
            "Autor Luis Sepúlveda\n",
            "Selecciona que quieres hacer a partir del menú de opciones:\n",
            "1. Top 5 palabras más comunes\n",
            "2. Top 5 palabras menos comunes\n",
            "3. Histograma de las 5 palabras más comunes\n",
            "4. Salir\n",
            "Seleccione una opción (1, 2, 3 o 4):1\n",
            "el: 33 veces\n",
            "la: 32 veces\n",
            "que: 29 veces\n",
            "de: 28 veces\n",
            "y: 21 veces\n",
            "Selecciona que quieres hacer a partir del menú de opciones:\n",
            "1. Top 5 palabras más comunes\n",
            "2. Top 5 palabras menos comunes\n",
            "3. Histograma de las 5 palabras más comunes\n",
            "4. Salir\n",
            "Seleccione una opción (1, 2, 3 o 4):2\n",
            "Top 5 palabras menos comunes:\n",
            "beso: 1 veces\n",
            "frío: 1 veces\n",
            "aunque: 1 veces\n",
            "creas,: 1 veces\n",
            "fracaso: 1 veces\n",
            "Selecciona que quieres hacer a partir del menú de opciones:\n",
            "1. Top 5 palabras más comunes\n",
            "2. Top 5 palabras menos comunes\n",
            "3. Histograma de las 5 palabras más comunes\n",
            "4. Salir\n",
            "Seleccione una opción (1, 2, 3 o 4):3\n",
            "el: *********************************\n",
            "la: ********************************\n",
            "que: *****************************\n",
            "de: ****************************\n",
            "y: *********************\n"
          ]
        },
        {
          "output_type": "display_data",
          "data": {
            "text/plain": [
              "<Figure size 640x480 with 1 Axes>"
            ],
            "image/png": "[encoded data removed]"
          },
          "metadata": {}
        },
        {
          "output_type": "stream",
          "name": "stdout",
          "text": [
            "Selecciona que quieres hacer a partir del menú de opciones:\n",
            "1. Top 5 palabras más comunes\n",
            "2. Top 5 palabras menos comunes\n",
            "3. Histograma de las 5 palabras más comunes\n",
            "4. Salir\n",
            "Seleccione una opción (1, 2, 3 o 4):4\n",
            "Saliendo del programa.\n"
          ]
        }
      ],
      "source": [
        "palabras = []\n",
        "with open(\"El%20caf%C3%A9.txt\", \"r\", encoding=\"utf-8-sig\") as f :\n",
        "    for line in f:\n",
        "      # Convertir el texto en una lista de palabras en minúsculas\n",
        "        palabras.extend(line.lower().split())\n",
        "        numero_palabras=len(palabras)\n",
        "print(palabras)\n",
        "print(f\"Tu texto tiene {numero_palabras} palabras\")\n",
        "print(\"Autor\", palabras[2].capitalize(), palabras[3].capitalize())\n",
        "\n",
        "from collections import Counter\n",
        "import matplotlib.pyplot as plt\n",
        "\n",
        "# Menú principal\n",
        "while True:\n",
        "    print(\"Selecciona que quieres hacer a partir del menú de opciones:\")\n",
        "    print(\"1. Top 5 palabras más comunes\")\n",
        "    print(\"2. Top 5 palabras menos comunes\")\n",
        "    print(\"3. Histograma de las 5 palabras más comunes\")\n",
        "    print(\"4. Salir\")\n",
        "\n",
        "    opcion = input(\"Seleccione una opción (1, 2, 3 o 4):\")\n",
        "\n",
        "    if opcion == \"1\":\n",
        "        conteo_palabras = Counter(palabras)\n",
        "        # Obtener las 5 palabras más comunes\n",
        "        top_palabras_comunes = conteo_palabras.most_common(5)\n",
        "        # Imprimir las palabras más comunes\n",
        "        for palabra, frecuencia in top_palabras_comunes:\n",
        "            print(f\"{palabra}: {frecuencia} veces\")\n",
        "\n",
        "    elif opcion == \"2\":\n",
        "      # Obtener las 5 palabras menos comunes\n",
        "      top_palabras_menos_comunes = conteo_palabras.most_common()[-5:]\n",
        "      # Imprimir las 5 palabras menos comunes\n",
        "      print(\"Top 5 palabras menos comunes:\")\n",
        "      for palabra, frecuencia in top_palabras_menos_comunes:\n",
        "        print(f\"{palabra}: {frecuencia} veces\")\n",
        "\n",
        "    elif opcion == \"3\":\n",
        "        # Obtener las 5 palabras más comunes\n",
        "        top_palabras_mas_comunes = conteo_palabras.most_common(5)\n",
        "        for palabra, frecuencia in top_palabras_mas_comunes:\n",
        "            print(f\"{palabra}: {'*' * frecuencia}\")\n",
        "\n",
        "        # Crear el gráfico de barras\n",
        "        palabras = [palabra[0] for palabra in top_palabras_mas_comunes]\n",
        "        frecuencias = [frecuencia[1] for frecuencia in top_palabras_mas_comunes]\n",
        "        plt.bar(palabras, frecuencias)\n",
        "        plt.xlabel('Palabras')\n",
        "        plt.ylabel('Frecuencia')\n",
        "        plt.show()\n",
        "\n",
        "    elif opcion == \"4\":\n",
        "        print(\"Saliendo del programa.\")\n",
        "        break\n",
        "\n",
        "    else:\n",
        "        print(\"Opción no válida. Por favor, seleccione 1, 2, 3 o 4.\")"
      ]
    }
  ],
  "metadata": {
    "colab": {
      "provenance": [],
      "authorship_tag": "ABX9TyPNy3c+2kpFE9NvLCQEGwxH",
      "include_colab_link": true
    },
    "kernelspec": {
      "display_name": "Python 3",
      "name": "python3"
    },
    "language_info": {
      "name": "python"
    }
  },
  "nbformat": 4,
  "nbformat_minor": 0
}