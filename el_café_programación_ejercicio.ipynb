{
  "cells": [
    {
      "cell_type": "markdown",
      "metadata": {
        "id": "view-in-github",
        "colab_type": "text"
      },
      "source": [
        "<a href=\"https://colab.research.google.com/github/Thaliasermung/ejercicio-cafe/blob/main/el_caf%C3%A9_programaci%C3%B3n_ejercicio.ipynb\" target=\"_parent\"><img src=\"https://colab.research.google.com/assets/colab-badge.svg\" alt=\"Open In Colab\"/></a>"
      ]
    },
    {
      "cell_type": "code",
      "execution_count": null,
      "metadata": {
        "id": "5fxOIbhS9-DJ"
      },
      "outputs": [],
      "source": [
        "# Título en grande\n",
        "print(\"**************\")\n",
        "print(\"* BIENVENIDO *\")\n",
        "print(\"**************\")"
      ]
    },
    {
      "cell_type": "markdown",
      "metadata": {
        "id": "Fj7i8ivbvjGV"
      },
      "source": [
        "A continuación se presenta el texto \"El café\" del escritor Luis Sepúlveda.\n",
        "\n",
        "En el apartado principal, las palabras se muestran en forma de lista y el número total de ellas.\n",
        "En los siguientes apartados tendrás:\n",
        "Apartado A: Top 5 palabras más comunes\n",
        "Apartado B: Top 5 palábras menos comunes\n",
        "Apartado C: Histograma de las 5 palabras más comunes\n",
        "Apartado D: Salir del programa.\n"
      ]
    },
    {
      "cell_type": "code",
      "execution_count": 1,
      "metadata": {
        "id": "2uCK1NDay8mR",
        "colab": {
          "base_uri": "https://localhost:8080/"
        },
        "outputId": "73c16162-1067-450a-b8d6-9e6b02b7bb97"
      },
      "outputs": [
        {
          "output_type": "stream",
          "name": "stdout",
          "text": [
            "\n",
            "                     (\n",
            "                        )     (\n",
            "                 ___...(-------)-....___\n",
            "             .-\"\"       )    (          \"\"-.\n",
            "       .-'``'|-._             )         _.-|\n",
            "      /  .--.|   `\"\"---...........---\"\"`   |\n",
            "     /  /    |                             |\n",
            "     |  |    |                             |\n",
            "      \\  \\   |                             |\n",
            "       `\\ `\\ |                             |\n",
            "         `\\ `|                             |\n",
            "         _/ /\\                             /\n",
            "        (__/  \\                           /\n",
            "     _..---\"\"` \\                         /`\"\"---.._\n",
            "  .-'           \\                       /          '-.\n",
            " :               `-.__             __.-'              :\n",
            " :                  ) \"\"---...---\"\" (                 :\n",
            "  '._               `\"--...___...--\"`              _.'\n",
            "      \"\"--..__                              __..--\"\"/\n",
            "         '._     \"\"\"----.....______.....----\"\"\"     _.'\n",
            "            `\"\"--..,,_____            _____,,..--\"\"`\n",
            "                          `\"\"\"----\"\"\"`\n",
            "\n"
          ]
        }
      ],
      "source": [
        "print ('''\n",
        "                     (\n",
        "                        )     (\n",
        "                 ___...(-------)-....___\n",
        "             .-\"\"       )    (          \"\"-.\n",
        "       .-'``'|-._             )         _.-|\n",
        "      /  .--.|   `\"\"---...........---\"\"`   |\n",
        "     /  /    |                             |\n",
        "     |  |    |                             |\n",
        "      \\  \\   |                             |\n",
        "       `\\ `\\ |                             |\n",
        "         `\\ `|                             |\n",
        "         _/ /\\                             /\n",
        "        (__/  \\                           /\n",
        "     _..---\"\"` \\                         /`\"\"---.._\n",
        "  .-'           \\                       /          '-.\n",
        " :               `-.__             __.-'              :\n",
        " :                  ) \"\"---...---\"\" (                 :\n",
        "  '._               `\"--...___...--\"`              _.'\n",
        "      \\\"\"--..__                              __..--\"\"/\n",
        "         '._     \"\"\"----.....______.....----\"\"\"     _.'\n",
        "            `\"\"--..,,_____            _____,,..--\"\"`\n",
        "                          `\"\"\"----\"\"\"`\n",
        "''')"
      ]
    },
    {
      "cell_type": "markdown",
      "metadata": {
        "id": "vYr5dGaD0BM6"
      },
      "source": [
        "**Apartado principal**"
      ]
    },
    {
      "cell_type": "code",
      "execution_count": null,
      "metadata": {
        "colab": {
          "base_uri": "https://localhost:8080/"
        },
        "id": "_Mxuht4MFCff",
        "outputId": "0b1d3ec4-60db-4406-8168-272f18b94b51"
      },
      "outputs": [
        {
          "output_type": "stream",
          "name": "stdout",
          "text": [
            "  % Total    % Received % Xferd  Average Speed   Time    Time     Time  Current\n",
            "                                 Dload  Upload   Total   Spent    Left  Speed\n",
            "100  4134  100  4134    0     0   9654      0 --:--:-- --:--:-- --:--:--  9636\n"
          ]
        }
      ],
      "source": [
        "# Fetch the dataset using the raw GitHub URL.\n",
        "!curl --remote-name \\\n",
        "     -H 'Accept: application/vnd.github.v3.raw' \\\n",
        "     --location https://raw.githubusercontent.com/Thaliasermung/ejercicio-cafe/main/El%20caf%C3%A9.txt"
      ]
    },
    {
      "cell_type": "code",
      "execution_count": null,
      "metadata": {
        "id": "1PvGY0ecFY9_"
      },
      "outputs": [],
      "source": [
        "from collections import Counter\n",
        "import matplotlib.pyplot as plt\n",
        "\n",
        "palabras = []\n",
        "with open(\"El%20caf%C3%A9.txt\", \"r\", encoding=\"utf-8-sig\") as f:\n",
        "    for line in f:\n",
        "        # Convertir el texto en una lista de palabras en minúsculas\n",
        "        palabras.extend(line.lower().split())\n",
        "numero_palabras = len(palabras)\n",
        "print(palabras)\n",
        "print(f\"Tu texto tiene {numero_palabras} palabras\")\n",
        "print(\"Autor\", palabras[2].capitalize(), palabras[3].capitalize())\n",
        "\n",
        "# Lista de palabras a eliminar\n",
        "palabras_a_eliminar = [\"la\", \"no\", \"los\", \"el\", \"y\", \"que\", \"de\", \"es\", \"a\", \"te\", \"creas,\", \"aunque\",\"en\", \"con\", \"ella\", \"su\", \"se\", \"un\", \"lo\", \"creas\", \"luis\", \"sepúlveda\", \"te\", \"de\", \"del\", \"las\", \"hasta\", \"tiene\"]\n",
        "\n",
        "# Eliminar palabras no deseadas de la lista palabras\n",
        "palabras = [palabra for palabra in palabras if palabra not in palabras_a_eliminar]\n",
        "\n",
        "# Calcular el número de palabras restantes\n",
        "numero_palabras = len(palabras)\n",
        "\n",
        "# Imprimir la lista de palabras filtradas\n",
        "print(palabras)\n",
        "\n",
        "# Imprimir el número de palabras restantes\n",
        "print(f\"Tu texto sin las palabras no deseadas tiene {numero_palabras} palabras.\")\n",
        "\n",
        "# Menú principal\n",
        "while True:\n",
        "    print(\"Selecciona lo que quieres hacer a partir del menú de opciones:\")\n",
        "    print(\"1. Top 5 palabras más comunes\")\n",
        "    print(\"2. Top 5 palabras menos comunes\")\n",
        "    print(\"3. Histograma de las 5 palabras más comunes\")\n",
        "    print(\"4. Salir\")\n",
        "\n",
        "    opcion = input(\"Seleccione una opción (1, 2, 3 0 4):\")\n",
        "\n",
        "    if opcion == \"1\":\n",
        "        conteo_palabras = Counter(palabras)\n",
        "        # Obtener las 5 palabras más comunes\n",
        "        top_palabras_comunes = conteo_palabras.most_common(5)\n",
        "        # Imprimir las palabras más comunes\n",
        "        for palabra, frecuencia in top_palabras_comunes:\n",
        "            print(f\"{palabra}: {frecuencia} veces\")\n",
        "\n",
        "    elif opcion == \"2\":\n",
        "        # Obtener todas las palabras menos comunes y mostrar las últimas 5\n",
        "        todas_las_palabras = conteo_palabras.most_common()\n",
        "        top_palabras_menos_comunes = todas_las_palabras[-5:]\n",
        "        for palabra, frecuencia in top_palabras_menos_comunes:\n",
        "            print(f\"{palabra}: {frecuencia} veces\")\n",
        "\n",
        "    elif opcion == \"3\":\n",
        "        # Obtener todas las palabras menos comunes y mostrar las últimas 5\n",
        "        top_palabras_mas_comunes = conteo_palabras.most_common(5)\n",
        "        for palabra, frecuencia in top_palabras_mas_comunes:\n",
        "            print(f\"{palabra}: {'*' * frecuencia}\")\n",
        "\n",
        "        # Crear el gráfico de barras\n",
        "        palabras_grafico = [palabra[0] for palabra in top_palabras_mas_comunes]\n",
        "        frecuencias = [frecuencia[1] for frecuencia in top_palabras_mas_comunes]\n",
        "        plt.bar(palabras_grafico, frecuencias)\n",
        "        plt.xlabel('Palabras')\n",
        "        plt.ylabel('Frecuencia')\n",
        "        plt.show()\n",
        "\n",
        "\n",
        "    elif opcion == \"4\":\n",
        "        print(\"Saliendo del programa.\")\n",
        "        break\n",
        "\n",
        "    else:\n",
        "        print(\"Opción no válida. Por favor, seleccione 1, 2, 3 o 4\")"
      ]
    }
  ],
  "metadata": {
    "colab": {
      "provenance": [],
      "authorship_tag": "ABX9TyNb1mg7h7hNI0jXiuWktEhb",
      "include_colab_link": true
    },
    "kernelspec": {
      "display_name": "Python 3",
      "name": "python3"
    },
    "language_info": {
      "name": "python"
    }
  },
  "nbformat": 4,
  "nbformat_minor": 0
}