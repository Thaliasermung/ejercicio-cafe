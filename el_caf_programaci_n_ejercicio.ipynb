{
  "cells": [
    {
      "cell_type": "markdown",
      "metadata": {
        "id": "view-in-github",
        "colab_type": "text"
      },
      "source": [
        "<a href=\"https://colab.research.google.com/github/Thaliasermung/ejercicio-cafe/blob/main/el_caf_programaci_n_ejercicio.ipynb\" target=\"_parent\"><img src=\"https://colab.research.google.com/assets/colab-badge.svg\" alt=\"Open In Colab\"/></a>"
      ]
    },
    {
      "cell_type": "code",
      "execution_count": null,
      "metadata": {
        "id": "5fxOIbhS9-DJ"
      },
      "outputs": [],
      "source": [
        "# Título en grande\n",
        "print(\"**************\")\n",
        "print(\"* BIENVENIDO *\")\n",
        "print(\"**************\")"
      ]
    },
    {
      "cell_type": "markdown",
      "metadata": {
        "id": "Fj7i8ivbvjGV"
      },
      "source": [
        "A continuación se presenta el texto \"El café\" del escritor Luis Sepúlveda.\n",
        "\n",
        "En el apartado principal, las palabras se muestran en forma de lista y el número total de ellas.\n",
        "En los siguientes apartados tendrás:\n",
        "Apartado A: Top 5 palabras más comunes\n",
        "Apartado B: Top 5 palábras menos comunes\n",
        "Apartado C: Histograma de las 5 palabras más comunes\n",
        "Apartado D: Salir del programa.\n"
      ]
    },
    {
      "cell_type": "code",
      "execution_count": null,
      "metadata": {
        "id": "2uCK1NDay8mR"
      },
      "outputs": [],
      "source": [
        "print ('''\n",
        "                     (\n",
        "                        )     (\n",
        "                 ___...(-------)-....___\n",
        "             .-\"\"       )    (          \"\"-.\n",
        "       .-'``'|-._             )         _.-|\n",
        "      /  .--.|   `\"\"---...........---\"\"`   |\n",
        "     /  /    |                             |\n",
        "     |  |    |                             |\n",
        "      \\  \\   |                             |\n",
        "       `\\ `\\ |                             |\n",
        "         `\\ `|                             |\n",
        "         _/ /\\                             /\n",
        "        (__/  \\                           /\n",
        "     _..---\"\"` \\                         /`\"\"---.._\n",
        "  .-'           \\                       /          '-.\n",
        " :               `-.__             __.-'              :\n",
        " :                  ) \"\"---...---\"\" (                 :\n",
        "  '._               `\"--...___...--\"`              _.'\n",
        "      \\\"\"--..__                              __..--\"\"/\n",
        "         '._     \"\"\"----.....______.....----\"\"\"     _.'\n",
        "            `\"\"--..,,_____            _____,,..--\"\"`\n",
        "                          `\"\"\"----\"\"\"`\n",
        "''')"
      ]
    },
    {
      "cell_type": "markdown",
      "metadata": {
        "id": "vYr5dGaD0BM6"
      },
      "source": [
        "**Apartado principal**"
      ]
    },
    {
      "cell_type": "code",
      "execution_count": null,
      "metadata": {
        "colab": {
          "base_uri": "https://localhost:8080/"
        },
        "id": "_Mxuht4MFCff",
        "outputId": "0b1d3ec4-60db-4406-8168-272f18b94b51"
      },
      "outputs": [
        {
          "output_type": "stream",
          "name": "stdout",
          "text": [
            "  % Total    % Received % Xferd  Average Speed   Time    Time     Time  Current\n",
            "                                 Dload  Upload   Total   Spent    Left  Speed\n",
            "100  4134  100  4134    0     0   9654      0 --:--:-- --:--:-- --:--:--  9636\n"
          ]
        }
      ],
      "source": [
        "# Fetch the dataset using the raw GitHub URL.\n",
        "!curl --remote-name \\\n",
        "     -H 'Accept: application/vnd.github.v3.raw' \\\n",
        "     --location https://raw.githubusercontent.com/Thaliasermung/ejercicio-cafe/main/El%20caf%C3%A9.txt"
      ]
    },
    {
      "cell_type": "code",
      "execution_count": null,
      "metadata": {
        "colab": {
          "base_uri": "https://localhost:8080/",
          "height": 1000
        },
        "id": "1PvGY0ecFY9_",
        "outputId": "4cdbe6d0-09ec-4cd0-e272-e6b9b9545b34"
      },
      "outputs": [
        {
          "output_type": "stream",
          "name": "stdout",
          "text": [
            "['el', 'café', 'luis', 'sepúlveda', 'ella', 'está', 'bajo', 'la', 'ducha.', 'el', 'agua', 'cae', 'sobre', 'su', 'cuerpo', 'y', 'se', 'detiene', 'en', 'la', 'formación', 'de', 'repentinas', 'estalactitas', 'en', 'el', 'abismo', 'de', 'esos', 'senos', 'que', 'has', 'besado', 'durante', 'tantas', 'horas.', 'colocas', 'café', 'en', 'el', 'filtro,', 'calculas', 'la', 'cantidad', 'de', 'agua', 'para', 'cuatro', 'tazas', 'y', 'oprimes', 'el', 'botón', 'rojo.', 'escuchas', 'el', 'sonido', 'del', 'agua', 'que', 'hierve', 'eléctricamente', 'y', 'gota', 'a', 'gota', 'va', 'cayendo', 'sobre', 'el', 'café,', 'formando', 'ese', 'lodo', 'aromático.', 'argamasa', 'que', 'une', 'los', 'adoquines', 'de', 'la', 'mañana.', 'ella', 'aparece', 'con', 'su', 'salida', 'de', 'baño', 'anudada', 'con', 'descuido.', 'puedes', 'ver', 'sus', 'muslos', 'relucientes,', 'húmedos', 'aún.', 'retiras', 'la', 'cafetera,', 'la', 'llevas', 'a', 'la', 'mesa,', 'dispones', 'las', 'tazas,', 'compruebas', 'que', 'los', 'claveles', 'persisten', 'en', 'su', 'agónica', 'estatura', 'rosada.', 'no', 'son', 'tan', 'puramente', 'perecederos', 'como', 'las', 'rosas', 'de', 'mayo.', 'aparece', 'ahora', 'con', 'una', 'toalla', 'anudada', 'a', 'manera', 'de', 'turbante,', 'puedes', 'ver', 'su', 'nuca,', 'el', 'cuello', 'liso', 'y', 'fresco,', 'que', 'huele', 'a', 'talco.', 'bajo', 'el', 'turbante', 'un', 'diminuto', 'mechón', 'escapa', 'a', 'las', 'intenciones', 'del', 'secado', 'y', 'se', 'adhiere', 'a', 'la', 'piel', 'con', 'esa', 'extraña', 'presencia', 'de', 'rubia', 'petrificación.', 'ella', 'se', 'sienta,', 'tú', 'también', 'lo', 'haces', 'y,', 'frente', 'a', 'ustedes,', 'el', 'silencio', 'de', 'siempre', 'ocupa', 'su', 'lugar.', 'sirves', 'el', 'café', 'lentamente,', 'alargas', 'la', 'mano', 'hacia', 'ella', 'con', 'la', 'taza', 'servida,', 'llenas', 'la', 'tuya,', 'con', 'la', 'mirada', 'le', 'ofreces', 'las', 'cosas', 'que', 'hay', 'sobre', 'la', 'mesa.', 'pan,', 'mantequilla,', 'mermelada', 'y', 'otros', 'alimentos', 'que', 'a', 'esas', 'horas', 'y', 'en', 'esas', 'circunstancias', 'se', 'te', 'antojan', 'absolutamente', 'insípidos.', 'compruebas', 'que', 'ella', 'no', 'acepta,', 'que', 'simplemente', 'enciende', 'un', 'cigarrillo', 'y', 'derrama', 'unas', 'gotas', 'de', 'leche', 'en', 'su', 'taza', 'de', 'café.', 'con', 'la', 'cuchara', 'realizas', 'breves', 'movimientos', 'giratorios', 'que', 'van', 'formando', 'espirales,', 'hasta', 'que', 'compruebas', 'la', 'total', 'disolución', 'del', 'azúcar', 'que', 'se', 'ha', 'hundido', 'como', 'polvo', 'de', 'espejos', 'en', 'un', 'pozo,', 'silenciosamente,', 'respetando', 'el', 'carácter', 'intocable', 'de', 'esta', 'mañana-silencio', 'que', 'se', 'inicia.', 'ella', 'es', 'finalmente', 'la', 'primera', 'en', 'probar', 'el', 'café', 'y', 'su', 'primera', 'idea', 'es', 'que', 'tal', 'vez', 'la', 'taza', 'estaba', 'sucia.', 'levanta', 'los', 'ojos,', 'te', 'mira', 'sin', 'recriminaciones', 'en', 'el', 'mismo', 'instante', 'en', 'que', 'tú', 'bebes', 'el', 'primer', 'sorbo', 'y', 'piensas', 'que', 'puede', 'ser', 'el', 'cigarrillo', 'el', 'responsable', 'de', 'este', 'sabor', 'por', 'el', 'momento', 'incalificable,', 'pero', 'es', 'ella', 'quien', 'lo', 'dice:', '–este', 'café', 'tiene', 'sabor', 'a', 'fracaso.', 'entonces', 'te', 'levantas,', 'le', 'arrebatas', 'la', 'taza', 'de', 'la', 'mano,', 'tomas', 'la', 'cafetera', 'y', 'vuelvas', 'todo', 'el', 'líquido', 'en', 'el', 'lavaplatos.', 'el', 'café', 'desaparece', 'entre', 'burbujas', 'calientes', 'y', 'no', 'queda', 'más', 'que', 'una', 'oscura', 'presencia', 'que', 'bordea', 'el', 'desagüe.', 'abres', 'un', 'nuevo', 'paquete,', 'calculas', 'agua', 'para', 'cuatro', 'tazas', 'y', 'estás', 'de', 'pie', 'esperando', 'que,', 'gota', 'a', 'gota,', 'se', 'vaya', 'formando', 'nuevamente', 'esa', 'porción', 'de', 'lodo', 'matinal.', 'sirves.', 'ella', 'prueba.', 'te', 'mira', 'con', 'tristeza.', 'no', 'dice', 'nada.', 'bebes', 'de', 'tu', 'taza', 'y', 'la', 'miras.', 'ahora', 'eres', 'tú', 'el', 'que', 'exclama:', '–cierto.', 'tiene', 'sabor', 'a', 'fracaso.', 'ella', 'dice', 'benevolente', 'que', 'puede', 'ser', 'cosa', 'del', 'azúcar', 'o', 'de', 'la', 'leche', 'y', 'tú', 'gritas', 'que', 'no', 'has', 'puesto', 'ni', 'leche', 'ni', 'azúcar', 'en', 'tu', 'taza.', 'enciente', 'otro', 'cigarrillo', 'y', 'aleja', 'su', 'taza', 'hasta', 'el', 'centro', 'de', 'la', 'mesa', 'mientras', 'tú', 'sacas', 'todos', 'los', 'paquetes', 'de', 'café', 'que', 'guardas', 'en', 'la', 'alacena', 'y', 'con', 'la', 'punta', 'de', 'un', 'cuchillo', 'los', 'vas', 'abriendo,', 'frenético', 'vas', 'palpando', 'con', 'tus', 'dedos', 'su', 'textura', 'fina,', 'pruebas,', 'escupes,', 'maldices,', 'compruebas', 'que', 'todo', 'el', 'café', 'de', 'la', 'casa', 'tiene', 'el', 'mismo', 'inevitable', 'sabor', 'a', 'fracaso.', 'ella', 'no', 'ha', 'probado', 'ninguno', 'y', 'también', 'lo', 'sabe.', 'te', 'lo', 'dice', 'con', 'la', 'mirada', 'perdida', 'en', 'los', 'dibujos', 'poliédricos', 'del', 'mantel.', 'te', 'lo', 'dice', 'que', 'con', 'el', 'humo', 'que', 'escapa', 'de', 'sus', 'labios.', 'regresas', 'a', 'tu', 'silla', 'sintiendo', 'algo', 'así', 'como', 'un', 'ladrillo', 'en', 'la', 'garganta.', 'quieres', 'hablar.', 'quieres', 'decir', 'que', 'juntos', 'habéis', 'tomado', 'muchos', 'cafés', 'con', 'sabor', 'a', 'olvido,', 'con', 'sabor', 'a', 'desprecio,', 'con', 'sabor', 'a', 'odio', 'amable', 'y', 'monótono.', 'quieres', 'decir', 'que', 'ésta', 'es', 'la', 'primera', 'vez', 'que', 'el', 'café', 'tiene', 'este', 'desesperante', 'sabor', 'a', 'fracaso.', 'pero', 'no', 'logras', 'articular', 'ni', 'una', 'palabra.', 'ella', 'se', 'levanta', 'de', 'la', 'mesa.', 'va', 'al', 'cuarto', 'contiguo.', 'se', 'viste', 'lentamente', 'y', 'hasta', 'tus', 'oídos', 'llega', 'el', 'clic', 'de', 'su', 'pulsera.', 'avanza', 'hasta', 'la', 'puerta,', 'coge', 'las', 'llaves,', 'el', 'bolso,', 'el', 'pequeño', 'libro', 'de', 'viajes,', 'piensa', 'algo', 'antes', 'de', 'abrir', 'la', 'puerta', 'y', 'retrocede', 'hasta', 'tu', 'puesto', 'para', 'estampar', 'en', 'tus', 'labios', 'un', 'beso', 'frío', 'que,', 'aunque', 'no', 'lo', 'creas,', 'tiene', 'el', 'mismo', 'sabor', 'a', 'fracaso', 'que', 'el', 'café.']\n",
            "Tu texto tiene 724 palabras\n",
            "Autor Luis Sepúlveda\n",
            "['café', 'está', 'bajo', 'ducha.', 'agua', 'cae', 'sobre', 'cuerpo', 'detiene', 'formación', 'repentinas', 'estalactitas', 'abismo', 'esos', 'senos', 'has', 'besado', 'durante', 'tantas', 'horas.', 'colocas', 'café', 'filtro,', 'calculas', 'cantidad', 'agua', 'para', 'cuatro', 'tazas', 'oprimes', 'botón', 'rojo.', 'escuchas', 'sonido', 'agua', 'hierve', 'eléctricamente', 'gota', 'gota', 'va', 'cayendo', 'sobre', 'café,', 'formando', 'ese', 'lodo', 'aromático.', 'argamasa', 'une', 'adoquines', 'mañana.', 'aparece', 'salida', 'baño', 'anudada', 'descuido.', 'puedes', 'ver', 'sus', 'muslos', 'relucientes,', 'húmedos', 'aún.', 'retiras', 'cafetera,', 'llevas', 'mesa,', 'dispones', 'tazas,', 'compruebas', 'claveles', 'persisten', 'agónica', 'estatura', 'rosada.', 'son', 'tan', 'puramente', 'perecederos', 'como', 'rosas', 'mayo.', 'aparece', 'ahora', 'una', 'toalla', 'anudada', 'manera', 'turbante,', 'puedes', 'ver', 'nuca,', 'cuello', 'liso', 'fresco,', 'huele', 'talco.', 'bajo', 'turbante', 'diminuto', 'mechón', 'escapa', 'intenciones', 'secado', 'adhiere', 'piel', 'esa', 'extraña', 'presencia', 'rubia', 'petrificación.', 'sienta,', 'tú', 'también', 'haces', 'y,', 'frente', 'ustedes,', 'silencio', 'siempre', 'ocupa', 'lugar.', 'sirves', 'café', 'lentamente,', 'alargas', 'mano', 'hacia', 'taza', 'servida,', 'llenas', 'tuya,', 'mirada', 'le', 'ofreces', 'cosas', 'hay', 'sobre', 'mesa.', 'pan,', 'mantequilla,', 'mermelada', 'otros', 'alimentos', 'esas', 'horas', 'esas', 'circunstancias', 'antojan', 'absolutamente', 'insípidos.', 'compruebas', 'acepta,', 'simplemente', 'enciende', 'cigarrillo', 'derrama', 'unas', 'gotas', 'leche', 'taza', 'café.', 'cuchara', 'realizas', 'breves', 'movimientos', 'giratorios', 'van', 'formando', 'espirales,', 'compruebas', 'total', 'disolución', 'azúcar', 'ha', 'hundido', 'como', 'polvo', 'espejos', 'pozo,', 'silenciosamente,', 'respetando', 'carácter', 'intocable', 'esta', 'mañana-silencio', 'inicia.', 'finalmente', 'primera', 'probar', 'café', 'primera', 'idea', 'tal', 'vez', 'taza', 'estaba', 'sucia.', 'levanta', 'ojos,', 'mira', 'sin', 'recriminaciones', 'mismo', 'instante', 'tú', 'bebes', 'primer', 'sorbo', 'piensas', 'puede', 'ser', 'cigarrillo', 'responsable', 'este', 'sabor', 'por', 'momento', 'incalificable,', 'pero', 'quien', 'dice:', '–este', 'café', 'sabor', 'fracaso.', 'entonces', 'levantas,', 'le', 'arrebatas', 'taza', 'mano,', 'tomas', 'cafetera', 'vuelvas', 'todo', 'líquido', 'lavaplatos.', 'café', 'desaparece', 'entre', 'burbujas', 'calientes', 'queda', 'más', 'una', 'oscura', 'presencia', 'bordea', 'desagüe.', 'abres', 'nuevo', 'paquete,', 'calculas', 'agua', 'para', 'cuatro', 'tazas', 'estás', 'pie', 'esperando', 'que,', 'gota', 'gota,', 'vaya', 'formando', 'nuevamente', 'esa', 'porción', 'lodo', 'matinal.', 'sirves.', 'prueba.', 'mira', 'tristeza.', 'dice', 'nada.', 'bebes', 'tu', 'taza', 'miras.', 'ahora', 'eres', 'tú', 'exclama:', '–cierto.', 'sabor', 'fracaso.', 'dice', 'benevolente', 'puede', 'ser', 'cosa', 'azúcar', 'o', 'leche', 'tú', 'gritas', 'has', 'puesto', 'ni', 'leche', 'ni', 'azúcar', 'tu', 'taza.', 'enciente', 'otro', 'cigarrillo', 'aleja', 'taza', 'centro', 'mesa', 'mientras', 'tú', 'sacas', 'todos', 'paquetes', 'café', 'guardas', 'alacena', 'punta', 'cuchillo', 'vas', 'abriendo,', 'frenético', 'vas', 'palpando', 'tus', 'dedos', 'textura', 'fina,', 'pruebas,', 'escupes,', 'maldices,', 'compruebas', 'todo', 'café', 'casa', 'mismo', 'inevitable', 'sabor', 'fracaso.', 'ha', 'probado', 'ninguno', 'también', 'sabe.', 'dice', 'mirada', 'perdida', 'dibujos', 'poliédricos', 'mantel.', 'dice', 'humo', 'escapa', 'sus', 'labios.', 'regresas', 'tu', 'silla', 'sintiendo', 'algo', 'así', 'como', 'ladrillo', 'garganta.', 'quieres', 'hablar.', 'quieres', 'decir', 'juntos', 'habéis', 'tomado', 'muchos', 'cafés', 'sabor', 'olvido,', 'sabor', 'desprecio,', 'sabor', 'odio', 'amable', 'monótono.', 'quieres', 'decir', 'ésta', 'primera', 'vez', 'café', 'este', 'desesperante', 'sabor', 'fracaso.', 'pero', 'logras', 'articular', 'ni', 'una', 'palabra.', 'levanta', 'mesa.', 'va', 'al', 'cuarto', 'contiguo.', 'viste', 'lentamente', 'tus', 'oídos', 'llega', 'clic', 'pulsera.', 'avanza', 'puerta,', 'coge', 'llaves,', 'bolso,', 'pequeño', 'libro', 'viajes,', 'piensa', 'algo', 'antes', 'abrir', 'puerta', 'retrocede', 'tu', 'puesto', 'para', 'estampar', 'tus', 'labios', 'beso', 'frío', 'que,', 'mismo', 'sabor', 'fracaso', 'café.']\n",
            "Tu texto sin las palabras no deseadas tiene 441 palabras.\n",
            "Selecciona lo que quieres hacer a partir del menú de opciones:\n",
            "1. Top 5 palabras más comunes\n",
            "2. Top 5 palabras menos comunes\n",
            "3. Histograma de las 5 palabras más comunes\n",
            "4. Salir\n",
            "Seleccione una opción (1, 2, 3, 4 o 5):1\n",
            "café: 9 veces\n",
            "sabor: 9 veces\n",
            "taza: 6 veces\n",
            "tú: 5 veces\n",
            "agua: 4 veces\n",
            "Selecciona lo que quieres hacer a partir del menú de opciones:\n",
            "1. Top 5 palabras más comunes\n",
            "2. Top 5 palabras menos comunes\n",
            "3. Histograma de las 5 palabras más comunes\n",
            "4. Salir\n",
            "Seleccione una opción (1, 2, 3, 4 o 5):2\n",
            "estampar: 1 veces\n",
            "labios: 1 veces\n",
            "beso: 1 veces\n",
            "frío: 1 veces\n",
            "fracaso: 1 veces\n",
            "Selecciona lo que quieres hacer a partir del menú de opciones:\n",
            "1. Top 5 palabras más comunes\n",
            "2. Top 5 palabras menos comunes\n",
            "3. Histograma de las 5 palabras más comunes\n",
            "4. Salir\n",
            "Seleccione una opción (1, 2, 3, 4 o 5):3\n",
            "café: *********\n",
            "sabor: *********\n",
            "taza: ******\n",
            "tú: *****\n",
            "agua: ****\n"
          ]
        },
        {
          "output_type": "display_data",
          "data": {
            "text/plain": [
              "<Figure size 640x480 with 1 Axes>"
            ],
            "image/png": "[encoded data removed]"
          },
          "metadata": {}
        },
        {
          "output_type": "stream",
          "name": "stdout",
          "text": [
            "Selecciona lo que quieres hacer a partir del menú de opciones:\n",
            "1. Top 5 palabras más comunes\n",
            "2. Top 5 palabras menos comunes\n",
            "3. Histograma de las 5 palabras más comunes\n",
            "4. Salir\n"
          ]
        }
      ],
      "source": [
        "from collections import Counter\n",
        "import matplotlib.pyplot as plt\n",
        "\n",
        "palabras = []\n",
        "with open(\"El%20caf%C3%A9.txt\", \"r\", encoding=\"utf-8-sig\") as f:\n",
        "    for line in f:\n",
        "        # Convertir el texto en una lista de palabras en minúsculas\n",
        "        palabras.extend(line.lower().split())\n",
        "numero_palabras = len(palabras)\n",
        "print(palabras)\n",
        "print(f\"Tu texto tiene {numero_palabras} palabras\")\n",
        "print(\"Autor\", palabras[2].capitalize(), palabras[3].capitalize())\n",
        "\n",
        "# Lista de palabras a eliminar\n",
        "palabras_a_eliminar = [\"la\", \"no\", \"los\", \"el\", \"y\", \"que\", \"de\", \"es\", \"a\", \"te\", \"creas,\", \"aunque\",\"en\", \"con\", \"ella\", \"su\", \"se\", \"un\", \"lo\", \"creas\", \"luis\", \"sepúlveda\", \"te\", \"de\", \"del\", \"las\", \"hasta\", \"tiene\"]\n",
        "\n",
        "# Eliminar palabras no deseadas de la lista palabras\n",
        "palabras = [palabra for palabra in palabras if palabra not in palabras_a_eliminar]\n",
        "\n",
        "# Calcular el número de palabras restantes\n",
        "numero_palabras = len(palabras)\n",
        "\n",
        "# Imprimir la lista de palabras filtradas\n",
        "print(palabras)\n",
        "\n",
        "# Imprimir el número de palabras restantes\n",
        "print(f\"Tu texto sin las palabras no deseadas tiene {numero_palabras} palabras.\")\n",
        "\n",
        "# Menú principal\n",
        "while True:\n",
        "    print(\"Selecciona lo que quieres hacer a partir del menú de opciones:\")\n",
        "    print(\"1. Top 5 palabras más comunes\")\n",
        "    print(\"2. Top 5 palabras menos comunes\")\n",
        "    print(\"3. Histograma de las 5 palabras más comunes\")\n",
        "    print(\"4. Salir\")\n",
        "\n",
        "    opcion = input(\"Seleccione una opción (1, 2, 3, 4 o 5):\")\n",
        "\n",
        "    if opcion == \"1\":\n",
        "        conteo_palabras = Counter(palabras)\n",
        "        # Obtener las 5 palabras más comunes\n",
        "        top_palabras_comunes = conteo_palabras.most_common(5)\n",
        "        # Imprimir las palabras más comunes\n",
        "        for palabra, frecuencia in top_palabras_comunes:\n",
        "            print(f\"{palabra}: {frecuencia} veces\")\n",
        "\n",
        "    elif opcion == \"2\":\n",
        "        # Obtener todas las palabras menos comunes y mostrar las últimas 5\n",
        "        todas_las_palabras = conteo_palabras.most_common()\n",
        "        top_palabras_menos_comunes = todas_las_palabras[-5:]\n",
        "        for palabra, frecuencia in top_palabras_menos_comunes:\n",
        "            print(f\"{palabra}: {frecuencia} veces\")\n",
        "\n",
        "    elif opcion == \"3\":\n",
        "        # Obtener todas las palabras menos comunes y mostrar las últimas 5\n",
        "        top_palabras_mas_comunes = conteo_palabras.most_common(5)\n",
        "        for palabra, frecuencia in top_palabras_mas_comunes:\n",
        "            print(f\"{palabra}: {'*' * frecuencia}\")\n",
        "\n",
        "        # Crear el gráfico de barras\n",
        "        palabras_grafico = [palabra[0] for palabra in top_palabras_mas_comunes]\n",
        "        frecuencias = [frecuencia[1] for frecuencia in top_palabras_mas_comunes]\n",
        "        plt.bar(palabras_grafico, frecuencias)\n",
        "        plt.xlabel('Palabras')\n",
        "        plt.ylabel('Frecuencia')\n",
        "        plt.show()\n",
        "\n",
        "\n",
        "    elif opcion == \"4\":\n",
        "        print(\"Saliendo del programa.\")\n",
        "        break\n",
        "\n",
        "    else:\n",
        "        print(\"Opción no válida. Por favor, seleccione 1, 2, 3, 4 o 5\")"
      ]
    }
  ],
  "metadata": {
    "colab": {
      "provenance": [],
      "authorship_tag": "ABX9TyMKTx2rPF2h7eWL5csc6yQu",
      "include_colab_link": true
    },
    "kernelspec": {
      "display_name": "Python 3",
      "name": "python3"
    },
    "language_info": {
      "name": "python"
    }
  },
  "nbformat": 4,
  "nbformat_minor": 0
}